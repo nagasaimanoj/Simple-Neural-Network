{
 "cells": [
  {
   "cell_type": "markdown",
   "metadata": {},
   "source": [
    "# Simple Neural Network"
   ]
  },
  {
   "cell_type": "code",
   "execution_count": 1,
   "metadata": {},
   "outputs": [],
   "source": [
    "from numpy import array, dot, exp"
   ]
  },
  {
   "cell_type": "markdown",
   "metadata": {},
   "source": [
    "### activation function (sigmoid)"
   ]
  },
  {
   "cell_type": "code",
   "execution_count": 2,
   "metadata": {},
   "outputs": [],
   "source": [
    "# any function that ranges from 0-1 (like sigmoid)\n",
    "sigmoid_func = lambda x: 1 / (1 + exp(-x))"
   ]
  },
  {
   "cell_type": "markdown",
   "metadata": {},
   "source": [
    "### taking training set & weights to the sigmoid"
   ]
  },
  {
   "cell_type": "code",
   "execution_count": 3,
   "metadata": {},
   "outputs": [],
   "source": [
    "# indipendent variables\n",
    "input_set = array([\n",
    "    [0, 0],\n",
    "    [1, 1],\n",
    "    [1, 0],\n",
    "    [0, 1]\n",
    "])\n",
    "\n",
    "# dependent variables\n",
    "output_set = array([\n",
    "    [0], [1], [1], [0]\n",
    "])\n",
    "\n",
    "# weights to the sigmoid function\n",
    "weights = array([\n",
    "    [0.], [0.]\n",
    "])"
   ]
  },
  {
   "cell_type": "markdown",
   "metadata": {},
   "source": [
    "### training model to find right weights for the dataset"
   ]
  },
  {
   "cell_type": "code",
   "execution_count": 4,
   "metadata": {},
   "outputs": [],
   "source": [
    "for iteration in range(100):\n",
    "    # multiplying weights to the dataset\n",
    "    mat_mul = dot(input_set, weights)\n",
    "    \n",
    "    # finding sigmoid to these multiplied values\n",
    "    prediction = sigmoid_func(mat_mul)\n",
    "\n",
    "    # deviation w.r.t original values\n",
    "    error = output_set - prediction\n",
    "\n",
    "    # updating weights w.r.t deviation\n",
    "    weights += dot(\n",
    "        input_set.T,\n",
    "        error * prediction * (1 - prediction)\n",
    "    )"
   ]
  },
  {
   "cell_type": "markdown",
   "metadata": {},
   "source": [
    "### predicting (running sigmoid on test data with weights)"
   ]
  },
  {
   "cell_type": "code",
   "execution_count": 5,
   "metadata": {},
   "outputs": [
    {
     "name": "stdout",
     "output_type": "stream",
     "text": [
      "[1, 0] = [0.97928903]\n"
     ]
    }
   ],
   "source": [
    "print(\"[1, 0] =\", sigmoid_func(\n",
    "    dot(array([1, 0]), weights)\n",
    "))"
   ]
  }
 ],
 "metadata": {
  "kernelspec": {
   "display_name": "Python 3",
   "language": "python",
   "name": "python3"
  },
  "language_info": {
   "codemirror_mode": {
    "name": "ipython",
    "version": 3
   },
   "file_extension": ".py",
   "mimetype": "text/x-python",
   "name": "python",
   "nbconvert_exporter": "python",
   "pygments_lexer": "ipython3",
   "version": "3.7.1"
  }
 },
 "nbformat": 4,
 "nbformat_minor": 2
}
