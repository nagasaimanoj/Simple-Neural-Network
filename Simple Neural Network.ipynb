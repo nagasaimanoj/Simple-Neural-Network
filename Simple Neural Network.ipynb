{
 "cells": [
  {
   "cell_type": "markdown",
   "metadata": {
    "ExecuteTime": {
     "end_time": "2019-01-17T08:25:35.992027Z",
     "start_time": "2019-01-17T08:25:35.988952Z"
    },
    "heading_collapsed": true
   },
   "source": [
    "# Simple Neural Network"
   ]
  },
  {
   "cell_type": "markdown",
   "metadata": {
    "heading_collapsed": true,
    "hidden": true
   },
   "source": [
    "## needed imports"
   ]
  },
  {
   "cell_type": "code",
   "execution_count": 1,
   "metadata": {
    "ExecuteTime": {
     "end_time": "2019-02-27T15:15:02.104523Z",
     "start_time": "2019-02-27T15:15:02.034994Z"
    },
    "hidden": true
   },
   "outputs": [],
   "source": [
    "from numpy import (\n",
    "    array, # to make matrix operations easy\n",
    "    dot, # matrix multiplication func\n",
    "    exp # for sigmoid func\n",
    ")"
   ]
  },
  {
   "cell_type": "markdown",
   "metadata": {
    "heading_collapsed": true,
    "hidden": true
   },
   "source": [
    "## activation function (sigmoid)"
   ]
  },
  {
   "cell_type": "code",
   "execution_count": 2,
   "metadata": {
    "ExecuteTime": {
     "end_time": "2019-02-27T15:15:03.276816Z",
     "start_time": "2019-02-27T15:15:03.272763Z"
    },
    "hidden": true
   },
   "outputs": [],
   "source": [
    "# this func returns a value between 0-1 for any given number (number's sigmoid)\n",
    "def sigmoid_func(val):\n",
    "    return 1 / (1 + exp(-val))"
   ]
  },
  {
   "cell_type": "markdown",
   "metadata": {
    "heading_collapsed": true,
    "hidden": true
   },
   "source": [
    "## data_set"
   ]
  },
  {
   "cell_type": "code",
   "execution_count": 3,
   "metadata": {
    "ExecuteTime": {
     "end_time": "2019-02-27T15:15:04.516689Z",
     "start_time": "2019-02-27T15:15:04.512232Z"
    },
    "hidden": true
   },
   "outputs": [],
   "source": [
    "# independent variables (x1 & x2)\n",
    "input_set = array([\n",
    "    [0, 0],\n",
    "    [1, 1],\n",
    "    [1, 0],\n",
    "    [0, 1]\n",
    "])\n",
    "\n",
    "# dependent variables (y)\n",
    "output_set = array([\n",
    "    [0],\n",
    "    [1],\n",
    "    [1],\n",
    "    [0]\n",
    "])"
   ]
  },
  {
   "cell_type": "markdown",
   "metadata": {
    "heading_collapsed": true,
    "hidden": true
   },
   "source": [
    "## default weights"
   ]
  },
  {
   "cell_type": "code",
   "execution_count": 4,
   "metadata": {
    "ExecuteTime": {
     "end_time": "2019-02-27T15:15:05.706668Z",
     "start_time": "2019-02-27T15:15:05.703301Z"
    },
    "hidden": true
   },
   "outputs": [],
   "source": [
    "# default weights (can be any random vals)\n",
    "weights = array([\n",
    "    [0.],\n",
    "    [0.]\n",
    "])"
   ]
  },
  {
   "cell_type": "markdown",
   "metadata": {
    "ExecuteTime": {
     "end_time": "2019-01-17T08:28:51.558760Z",
     "start_time": "2019-01-17T08:28:51.554209Z"
    },
    "heading_collapsed": true,
    "hidden": true
   },
   "source": [
    "## training (gradiant descent)"
   ]
  },
  {
   "cell_type": "code",
   "execution_count": 5,
   "metadata": {
    "ExecuteTime": {
     "end_time": "2019-02-27T15:15:06.902382Z",
     "start_time": "2019-02-27T15:15:06.894594Z"
    },
    "hidden": true
   },
   "outputs": [],
   "source": [
    "# updating weights through gradiant descent to minimise error value\n",
    "for iteration in range(100):\n",
    "    # (x1 * w1) + (x2 * w2)\n",
    "    mat_mul = dot(input_set, weights)\n",
    "\n",
    "    # sigmoid(previous value)\n",
    "    prediction = sigmoid_func(mat_mul)\n",
    "\n",
    "    # actual_val - pred_val\n",
    "    error = output_set - prediction\n",
    "\n",
    "    # updating weights based on error (bigger error changes weights faster)\n",
    "    weights += dot(\n",
    "        input_set.T,\n",
    "        error * prediction * (1 - prediction)\n",
    "    )"
   ]
  },
  {
   "cell_type": "markdown",
   "metadata": {
    "heading_collapsed": true,
    "hidden": true
   },
   "source": [
    "## prediction"
   ]
  },
  {
   "cell_type": "code",
   "execution_count": 6,
   "metadata": {
    "ExecuteTime": {
     "end_time": "2019-02-27T15:15:08.435841Z",
     "start_time": "2019-02-27T15:15:08.430762Z"
    },
    "hidden": true
   },
   "outputs": [
    {
     "name": "stdout",
     "output_type": "stream",
     "text": [
      "[1 0] => [0.97928903]\n"
     ]
    }
   ],
   "source": [
    "# taking new set of independent variables new (x1, x2)\n",
    "pred_vals = array([1, 0])\n",
    "\n",
    "# predicting y (calculating sigmoid for product of new independent variables & their corrosponding weights)\n",
    "prediction = sigmoid_func(dot(pred_vals, weights))\n",
    "\n",
    "print(\n",
    "    pred_vals, '=>',\n",
    "    prediction\n",
    ")"
   ]
  }
 ],
 "metadata": {
  "kernelspec": {
   "display_name": "Python 3",
   "language": "python",
   "name": "python3"
  },
  "language_info": {
   "codemirror_mode": {
    "name": "ipython",
    "version": 3
   },
   "file_extension": ".py",
   "mimetype": "text/x-python",
   "name": "python",
   "nbconvert_exporter": "python",
   "pygments_lexer": "ipython3",
   "version": "3.7.1"
  },
  "toc": {
   "base_numbering": 1,
   "nav_menu": {},
   "number_sections": true,
   "sideBar": true,
   "skip_h1_title": false,
   "title_cell": "Table of Contents",
   "title_sidebar": "Contents",
   "toc_cell": false,
   "toc_position": {},
   "toc_section_display": true,
   "toc_window_display": false
  },
  "varInspector": {
   "cols": {
    "lenName": 16,
    "lenType": 16,
    "lenVar": 40
   },
   "kernels_config": {
    "python": {
     "delete_cmd_postfix": "",
     "delete_cmd_prefix": "del ",
     "library": "var_list.py",
     "varRefreshCmd": "print(var_dic_list())"
    },
    "r": {
     "delete_cmd_postfix": ") ",
     "delete_cmd_prefix": "rm(",
     "library": "var_list.r",
     "varRefreshCmd": "cat(var_dic_list()) "
    }
   },
   "types_to_exclude": [
    "module",
    "function",
    "builtin_function_or_method",
    "instance",
    "_Feature"
   ],
   "window_display": false
  }
 },
 "nbformat": 4,
 "nbformat_minor": 2
}
